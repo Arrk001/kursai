{
 "cells": [
  {
   "cell_type": "code",
   "execution_count": 1,
   "id": "f0a2ed33",
   "metadata": {},
   "outputs": [],
   "source": [
    "import sqlite3\n",
    "con = sqlite3.connect(\"tutorial.db\")\n",
    "cursor = con.cursor()"
   ]
  },
  {
   "cell_type": "code",
   "execution_count": 2,
   "id": "e18bf551",
   "metadata": {},
   "outputs": [
    {
     "data": {
      "text/plain": [
       "<sqlite3.Cursor at 0x1a9206e8a40>"
      ]
     },
     "execution_count": 2,
     "metadata": {},
     "output_type": "execute_result"
    }
   ],
   "source": [
    "# Sukuria lentelę Persons\n",
    "cursor.execute(\"\"\"CREATE TABLE Mov (\n",
    "    id INTEGER NOT NULL PRIMARY KEY AUTOINCREMENT,\n",
    "    MovName TEXT,\n",
    "    Genre TEXT,\n",
    "    ReleaseDate TEXT,\n",
    "    Status TEXT\n",
    ");\"\"\")"
   ]
  },
  {
   "cell_type": "code",
   "execution_count": 20,
   "id": "0591d1a1",
   "metadata": {},
   "outputs": [
    {
     "data": {
      "text/plain": [
       "<sqlite3.Cursor at 0x1a9206e8a40>"
      ]
     },
     "execution_count": 20,
     "metadata": {},
     "output_type": "execute_result"
    }
   ],
   "source": [
    "# Duomenų įterpimas į jau anksčiau sukurtą duomenų bazės lentelę\n",
    "cursor.execute(\"\"\"INSERT INTO Mov (MovName, Genre, ReleaseDate, Status)\n",
    "VALUES ('Day Shift', 'Horror', '08/2025', 'Seen');\"\"\")"
   ]
  },
  {
   "cell_type": "code",
   "execution_count": 5,
   "id": "c2d3b992",
   "metadata": {},
   "outputs": [
    {
     "data": {
      "text/html": [
       "<pre style=\"white-space:pre;overflow-x:auto;line-height:normal;font-family:Menlo,'DejaVu Sans Mono',consolas,'Courier New',monospace\"><span style=\"font-weight: bold\">[(</span><span style=\"color: #008080; text-decoration-color: #008080; font-weight: bold\">1</span>, <span style=\"color: #008000; text-decoration-color: #008000\">'Sinners'</span>, <span style=\"color: #008000; text-decoration-color: #008000\">'Horror'</span>, <span style=\"color: #008000; text-decoration-color: #008000\">'04/2025'</span>, <span style=\"color: #008000; text-decoration-color: #008000\">'Seen'</span><span style=\"font-weight: bold\">)]</span>\n",
       "</pre>\n"
      ],
      "text/plain": [
       "\u001b[1m[\u001b[0m\u001b[1m(\u001b[0m\u001b[1;36m1\u001b[0m, \u001b[32m'Sinners'\u001b[0m, \u001b[32m'Horror'\u001b[0m, \u001b[32m'04/2025'\u001b[0m, \u001b[32m'Seen'\u001b[0m\u001b[1m)\u001b[0m\u001b[1m]\u001b[0m\n"
      ]
     },
     "metadata": {},
     "output_type": "display_data"
    }
   ],
   "source": [
    "# Įrašų gavimas atfiltruojant pagal pirmą raidę 'P' pavardėje\n",
    "from rich import print\n",
    "cursor.execute(\"\"\"SELECT * FROM Mov WHERE Genre like \"Horror\";\"\"\")\n",
    "results = cursor.fetchall()\n",
    "print(results)"
   ]
  },
  {
   "cell_type": "code",
   "execution_count": 6,
   "id": "edc9792a",
   "metadata": {},
   "outputs": [
    {
     "data": {
      "text/html": [
       "<pre style=\"white-space:pre;overflow-x:auto;line-height:normal;font-family:Menlo,'DejaVu Sans Mono',consolas,'Courier New',monospace\">Seen\n",
       "</pre>\n"
      ],
      "text/plain": [
       "Seen\n"
      ]
     },
     "metadata": {},
     "output_type": "display_data"
    }
   ],
   "source": [
    "print(results[0][4])\n"
   ]
  },
  {
   "cell_type": "code",
   "execution_count": 7,
   "id": "65dea598",
   "metadata": {},
   "outputs": [
    {
     "data": {
      "text/html": [
       "<pre style=\"white-space:pre;overflow-x:auto;line-height:normal;font-family:Menlo,'DejaVu Sans Mono',consolas,'Courier New',monospace\"><span style=\"font-weight: bold\">(</span><span style=\"color: #008000; text-decoration-color: #008000\">'Sinners'</span>, <span style=\"color: #008000; text-decoration-color: #008000\">'Horror'</span>, <span style=\"color: #008080; text-decoration-color: #008080; font-weight: bold\">1</span><span style=\"font-weight: bold\">)</span>\n",
       "</pre>\n"
      ],
      "text/plain": [
       "\u001b[1m(\u001b[0m\u001b[32m'Sinners'\u001b[0m, \u001b[32m'Horror'\u001b[0m, \u001b[1;36m1\u001b[0m\u001b[1m)\u001b[0m\n"
      ]
     },
     "metadata": {},
     "output_type": "display_data"
    }
   ],
   "source": [
    "# Specifinių stulpelių iš DB lentelės pasirinkimas, atfiltruojant įrašą pagal ID\n",
    "cursor.execute(\"\"\"SELECT MovName, Genre, id FROM Mov WHERE id = 1;\"\"\")\n",
    "results = cursor.fetchall()\n",
    "\n",
    "print(results[0])"
   ]
  },
  {
   "cell_type": "code",
   "execution_count": null,
   "id": "fea228aa",
   "metadata": {},
   "outputs": [
    {
     "data": {
      "text/plain": [
       "<sqlite3.Cursor at 0x15be42b89c0>"
      ]
     },
     "execution_count": 9,
     "metadata": {},
     "output_type": "execute_result"
    }
   ],
   "source": [
    "# Įrašų atnaujinimas\n",
    "cursor.execute(\"\"\"UPDATE Mov\n",
    "SET Status = 'Seen'\n",
    "WHERE id = 1;\"\"\")"
   ]
  },
  {
   "cell_type": "code",
   "execution_count": null,
   "id": "c03d22df",
   "metadata": {},
   "outputs": [],
   "source": [
    "# Įrašų ištrynimas\n",
    "cursor.execute(\"\"\"DELETE from Mov\n",
    "WHERE id = 2;\"\"\")"
   ]
  },
  {
   "cell_type": "code",
   "execution_count": 21,
   "id": "b9136955",
   "metadata": {},
   "outputs": [],
   "source": [
    "# Duomenų išsaugojimas DB\n",
    "con.commit()"
   ]
  }
 ],
 "metadata": {
  "kernelspec": {
   "display_name": "Python 3",
   "language": "python",
   "name": "python3"
  },
  "language_info": {
   "codemirror_mode": {
    "name": "ipython",
    "version": 3
   },
   "file_extension": ".py",
   "mimetype": "text/x-python",
   "name": "python",
   "nbconvert_exporter": "python",
   "pygments_lexer": "ipython3",
   "version": "3.13.3"
  }
 },
 "nbformat": 4,
 "nbformat_minor": 5
}
